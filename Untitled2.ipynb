{
  "nbformat": 4,
  "nbformat_minor": 0,
  "metadata": {
    "colab": {
      "provenance": [],
      "authorship_tag": "ABX9TyNwatiKA97mD2G+fgpXUG3d",
      "include_colab_link": true
    },
    "kernelspec": {
      "name": "python3",
      "display_name": "Python 3"
    },
    "language_info": {
      "name": "python"
    }
  },
  "cells": [
    {
      "cell_type": "markdown",
      "metadata": {
        "id": "view-in-github",
        "colab_type": "text"
      },
      "source": [
        "<a href=\"https://colab.research.google.com/github/LeoAlvarengaDev/Atividades_Pandas/blob/main/Untitled2.ipynb\" target=\"_parent\"><img src=\"https://colab.research.google.com/assets/colab-badge.svg\" alt=\"Open In Colab\"/></a>"
      ]
    },
    {
      "cell_type": "code",
      "execution_count": 1,
      "metadata": {
        "id": "FNg6Csf0vNpq"
      },
      "outputs": [],
      "source": [
        "import pandas as pd"
      ]
    },
    {
      "cell_type": "code",
      "source": [
        "#1)\tAbra o arquivo – precodecasas.csv\n",
        "df_PrecoCasas = pd.read_csv('/content/Precodecasa_20230301152803.csv',sep=';')\n"
      ],
      "metadata": {
        "id": "chXr6yFfydKl"
      },
      "execution_count": 19,
      "outputs": []
    },
    {
      "cell_type": "code",
      "source": [
        "#2)\tListe-o\n",
        "display(df_PrecoCasas)"
      ],
      "metadata": {
        "id": "PcUVrgYo4pHl"
      },
      "execution_count": null,
      "outputs": []
    },
    {
      "cell_type": "code",
      "source": [
        "#3)Responda:\n",
        "#a.\tEscreva a quantidade de linhas e de colunas do arquivo.\n",
        "print(\"Quantidade de linhas =\",df_PrecoCasas.shape[0],\"\\nQuantidade de colunas =\",df_PrecoCasas.shape[1])"
      ],
      "metadata": {
        "id": "MwfIB2mA4llv"
      },
      "execution_count": null,
      "outputs": []
    },
    {
      "cell_type": "code",
      "source": [
        "#3)Responda:\n",
        "#b.\tListe as 10 últimas linhas do arquivo\n",
        "display(df_PrecoCasas.tail(10))"
      ],
      "metadata": {
        "id": "4WCEClof4sJF"
      },
      "execution_count": null,
      "outputs": []
    },
    {
      "cell_type": "code",
      "source": [
        "#3)Responda:\n",
        "#c.\tQual o formato do arquivo? CSV.\n",
        "#Tem cabeçalho? Sim.\n",
        "#Se não tivesse cabeçalho, como você faria? \n",
        "df_cabecalho =  pd.read_csv('/content/Precodecasa_20230301152803.csv',sep=';',names=['id', 'data', 'quartos','banheiros','sqft_living','sqft_lot','pisos','beira-mar','visualizar','doença','sqft_above','sqft_basement','ano_Construção','yr_renovated','zipcode','lat','long','sqft_living15','sqft_lot15','preço'])\n",
        "display(df_cabecalho)\n",
        "#É separado por vírgula? Sim.\n",
        "#Cite o tipo de dados da data, do preço e da quantidade de banheiros.\n",
        "display(df_PrecoCasas[['date','price','bathrooms']].info())"
      ],
      "metadata": {
        "id": "ucvs697t42_u"
      },
      "execution_count": null,
      "outputs": []
    },
    {
      "cell_type": "code",
      "source": [
        "#3)Responda:\n",
        "#d.\tQual a média de quartos?   \n",
        "medQts = df_PrecoCasas['bedrooms']\n",
        "print(\"A Media de quartos =\",medQts.mean())"
      ],
      "metadata": {
        "id": "ORxGFpgS43Rl"
      },
      "execution_count": null,
      "outputs": []
    },
    {
      "cell_type": "code",
      "source": [
        "from numpy import std\n",
        "#3)Responda:\n",
        "#e.\tQual o desvio padrão do piso?\n",
        "desPis = df_PrecoCasas['floors']\n",
        "print(\"O Desvio padrão do piso =\",desPis.std())"
      ],
      "metadata": {
        "id": "hWLegVTl5up3"
      },
      "execution_count": null,
      "outputs": []
    }
  ]
}